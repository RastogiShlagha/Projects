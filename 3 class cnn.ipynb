{
 "cells": [
  {
   "cell_type": "code",
   "execution_count": 1,
   "metadata": {},
   "outputs": [
    {
     "name": "stderr",
     "output_type": "stream",
     "text": [
      "C:\\Users\\Shlagha Rastogi\\Anaconda3\\lib\\site-packages\\tensorflow\\python\\framework\\dtypes.py:526: FutureWarning: Passing (type, 1) or '1type' as a synonym of type is deprecated; in a future version of numpy, it will be understood as (type, (1,)) / '(1,)type'.\n",
      "  _np_qint8 = np.dtype([(\"qint8\", np.int8, 1)])\n",
      "C:\\Users\\Shlagha Rastogi\\Anaconda3\\lib\\site-packages\\tensorflow\\python\\framework\\dtypes.py:527: FutureWarning: Passing (type, 1) or '1type' as a synonym of type is deprecated; in a future version of numpy, it will be understood as (type, (1,)) / '(1,)type'.\n",
      "  _np_quint8 = np.dtype([(\"quint8\", np.uint8, 1)])\n",
      "C:\\Users\\Shlagha Rastogi\\Anaconda3\\lib\\site-packages\\tensorflow\\python\\framework\\dtypes.py:528: FutureWarning: Passing (type, 1) or '1type' as a synonym of type is deprecated; in a future version of numpy, it will be understood as (type, (1,)) / '(1,)type'.\n",
      "  _np_qint16 = np.dtype([(\"qint16\", np.int16, 1)])\n",
      "C:\\Users\\Shlagha Rastogi\\Anaconda3\\lib\\site-packages\\tensorflow\\python\\framework\\dtypes.py:529: FutureWarning: Passing (type, 1) or '1type' as a synonym of type is deprecated; in a future version of numpy, it will be understood as (type, (1,)) / '(1,)type'.\n",
      "  _np_quint16 = np.dtype([(\"quint16\", np.uint16, 1)])\n",
      "C:\\Users\\Shlagha Rastogi\\Anaconda3\\lib\\site-packages\\tensorflow\\python\\framework\\dtypes.py:530: FutureWarning: Passing (type, 1) or '1type' as a synonym of type is deprecated; in a future version of numpy, it will be understood as (type, (1,)) / '(1,)type'.\n",
      "  _np_qint32 = np.dtype([(\"qint32\", np.int32, 1)])\n",
      "C:\\Users\\Shlagha Rastogi\\Anaconda3\\lib\\site-packages\\tensorflow\\python\\framework\\dtypes.py:535: FutureWarning: Passing (type, 1) or '1type' as a synonym of type is deprecated; in a future version of numpy, it will be understood as (type, (1,)) / '(1,)type'.\n",
      "  np_resource = np.dtype([(\"resource\", np.ubyte, 1)])\n",
      "WARNING (theano.configdefaults): g++ not available, if using conda: `conda install m2w64-toolchain`\n",
      "C:\\Users\\Shlagha Rastogi\\Anaconda3\\lib\\site-packages\\theano\\configdefaults.py:560: UserWarning: DeprecationWarning: there is no c++ compiler.This is deprecated and with Theano 0.11 a c++ compiler will be mandatory\n",
      "  warnings.warn(\"DeprecationWarning: there is no c++ compiler.\"\n",
      "WARNING (theano.configdefaults): g++ not detected ! Theano will be unable to execute optimized C-implementations (for both CPU and GPU) and will default to Python implementations. Performance will be severely degraded. To remove this warning, set Theano flags cxx to an empty string.\n",
      "WARNING (theano.tensor.blas): Using NumPy C-API based implementation for BLAS functions.\n",
      "Using TensorFlow backend.\n"
     ]
    }
   ],
   "source": [
    "import tensorflow\n",
    "import theano\n",
    "import keras\n",
    "import pandas as pd\n",
    "import numpy as np\n",
    "import matplotlib.pyplot as plt"
   ]
  },
  {
   "cell_type": "code",
   "execution_count": 2,
   "metadata": {},
   "outputs": [
    {
     "name": "stdout",
     "output_type": "stream",
     "text": [
      "WARNING:tensorflow:From C:\\Users\\Shlagha Rastogi\\Anaconda3\\lib\\site-packages\\tensorflow\\python\\ops\\resource_variable_ops.py:435: colocate_with (from tensorflow.python.framework.ops) is deprecated and will be removed in a future version.\n",
      "Instructions for updating:\n",
      "Colocations handled automatically by placer.\n"
     ]
    }
   ],
   "source": [
    "from tensorflow.keras.models import Sequential\n",
    "from tensorflow.keras.layers import Convolution2D\n",
    "from tensorflow.keras.layers import MaxPooling2D\n",
    "from tensorflow.keras.layers import Flatten\n",
    "from tensorflow.keras.layers import Dense\n",
    "\n",
    "classifier = Sequential()\n",
    "\n",
    "classifier.add(Convolution2D(32,3,3, input_shape = (64, 64, 3), activation='relu')) #using tensorflow, we input the shape of the image first and then the colour layers, viceversa for theano\n",
    "classifier.add(MaxPooling2D(pool_size = (2,2)))\n",
    "\n",
    "# Adding a second convolutional layer\n",
    "classifier.add(Convolution2D(64,3,3, activation='relu')) #using tensorflow, we input the shape of the image first and then the colour layers, viceversa for theano\n",
    "classifier.add(MaxPooling2D(pool_size = (2,2)))\n",
    "\n",
    "classifier.add(Flatten())\n",
    "\n",
    "classifier.add(Dense(units=128, activation = 'relu', kernel_initializer='uniform'))\n",
    "classifier.add(Dense(units = 3, activation = 'softmax', kernel_initializer='uniform'))\n",
    "\n",
    "classifier.compile(optimizer='adam', loss = 'categorical_crossentropy', metrics=['accuracy', 'mse'])"
   ]
  },
  {
   "cell_type": "code",
   "execution_count": 3,
   "metadata": {},
   "outputs": [],
   "source": [
    "img_width, img_height = 64, 64\n",
    "train_data_dir = r\"C:\\Users\\Shlagha Rastogi\\Downloads\\Deep learning\\data\\train\"\n",
    "validation_data_dir = r\"C:\\Users\\Shlagha Rastogi\\Downloads\\Deep learning\\data\\test\""
   ]
  },
  {
   "cell_type": "code",
   "execution_count": 4,
   "metadata": {},
   "outputs": [
    {
     "name": "stdout",
     "output_type": "stream",
     "text": [
      "Found 888 images belonging to 3 classes.\n",
      "Found 300 images belonging to 3 classes.\n",
      "WARNING:tensorflow:From C:\\Users\\Shlagha Rastogi\\Anaconda3\\lib\\site-packages\\tensorflow\\python\\ops\\math_ops.py:3066: to_int32 (from tensorflow.python.ops.math_ops) is deprecated and will be removed in a future version.\n",
      "Instructions for updating:\n",
      "Use tf.cast instead.\n",
      "Epoch 1/5\n",
      "10/10 [==============================] - 2s 208ms/step - loss: 1.0869 - acc: 0.3333 - mean_squared_error: 0.2196\n",
      "28/28 [==============================] - 9s 324ms/step - loss: 1.0962 - acc: 0.3626 - mean_squared_error: 0.2217 - val_loss: 1.0869 - val_acc: 0.3333 - val_mean_squared_error: 0.2196\n",
      "Epoch 2/5\n",
      "10/10 [==============================] - 1s 94ms/step - loss: 0.9847 - acc: 0.5200 - mean_squared_error: 0.1962\n",
      "28/28 [==============================] - 3s 114ms/step - loss: 1.0583 - acc: 0.3975 - mean_squared_error: 0.2128 - val_loss: 0.9847 - val_acc: 0.5200 - val_mean_squared_error: 0.1962\n",
      "Epoch 3/5\n",
      "10/10 [==============================] - 1s 94ms/step - loss: 0.8728 - acc: 0.5233 - mean_squared_error: 0.1770\n",
      "28/28 [==============================] - 4s 134ms/step - loss: 0.9237 - acc: 0.5721 - mean_squared_error: 0.1828 - val_loss: 0.8728 - val_acc: 0.5233 - val_mean_squared_error: 0.1770\n",
      "Epoch 4/5\n",
      "10/10 [==============================] - 1s 120ms/step - loss: 0.8589 - acc: 0.5400 - mean_squared_error: 0.1759\n",
      "28/28 [==============================] - 4s 152ms/step - loss: 0.8567 - acc: 0.5709 - mean_squared_error: 0.1710 - val_loss: 0.8589 - val_acc: 0.5400 - val_mean_squared_error: 0.1759\n",
      "Epoch 5/5\n",
      "10/10 [==============================] - 1s 100ms/step - loss: 0.7549 - acc: 0.6167 - mean_squared_error: 0.1553\n",
      "28/28 [==============================] - 4s 147ms/step - loss: 0.8000 - acc: 0.6036 - mean_squared_error: 0.1594 - val_loss: 0.7549 - val_acc: 0.6167 - val_mean_squared_error: 0.1553\n"
     ]
    },
    {
     "data": {
      "text/plain": [
       "<tensorflow.python.keras.callbacks.History at 0x292f1f95d68>"
      ]
     },
     "execution_count": 4,
     "metadata": {},
     "output_type": "execute_result"
    }
   ],
   "source": [
    "from tensorflow.keras.preprocessing.image import ImageDataGenerator\n",
    "\n",
    "train_datagen = ImageDataGenerator(\n",
    "        rescale=1./255,\n",
    "        shear_range=0.2,\n",
    "        zoom_range=0.2,\n",
    "        horizontal_flip=True)\n",
    "\n",
    "test_datagen = ImageDataGenerator(rescale=1./255)\n",
    "\n",
    "train_generator = train_datagen.flow_from_directory(\n",
    "    train_data_dir,\n",
    "    target_size=(64, 64),\n",
    "    batch_size=32,\n",
    "    class_mode='categorical')\n",
    "\n",
    "validation_generator = test_datagen.flow_from_directory(\n",
    "    validation_data_dir,\n",
    "    target_size=(64, 64),\n",
    "    batch_size=32,\n",
    "    class_mode='categorical')\n",
    "\n",
    "classifier.fit_generator(\n",
    "    train_generator,\n",
    "    steps_per_epoch=296*3, # Number of images in train set\n",
    "    epochs=5,\n",
    "    validation_data=validation_generator,\n",
    "    validation_steps=100*3) # Number of images in test set"
   ]
  },
  {
   "cell_type": "code",
   "execution_count": 12,
   "metadata": {},
   "outputs": [],
   "source": [
    "import numpy as np\n",
    "from keras.preprocessing import image\n",
    "test_image = image.load_img(r\"C:\\Users\\Shlagha Rastogi\\Downloads\\Deep learning\\data\\single pred\\28723768.jpg\", target_size = (64, 64))\n",
    "test_image = image.img_to_array(test_image)\n",
    "test_image = np.expand_dims(test_image, axis = 0)\n",
    "result = classifier.predict(test_image)\n",
    "train_generator.class_indices\n",
    "if result[0][0] == 1:\n",
    "    prediction = 'dog'\n",
    "elif result[0][0] ==2:\n",
    "    prediction = 'cat'\n",
    "else:\n",
    "    prediction = 'truck'"
   ]
  },
  {
   "cell_type": "code",
   "execution_count": 13,
   "metadata": {},
   "outputs": [
    {
     "data": {
      "text/plain": [
       "'truck'"
      ]
     },
     "execution_count": 13,
     "metadata": {},
     "output_type": "execute_result"
    }
   ],
   "source": [
    "prediction"
   ]
  },
  {
   "cell_type": "code",
   "execution_count": null,
   "metadata": {},
   "outputs": [],
   "source": []
  }
 ],
 "metadata": {
  "kernelspec": {
   "display_name": "Python 3",
   "language": "python",
   "name": "python3"
  },
  "language_info": {
   "codemirror_mode": {
    "name": "ipython",
    "version": 3
   },
   "file_extension": ".py",
   "mimetype": "text/x-python",
   "name": "python",
   "nbconvert_exporter": "python",
   "pygments_lexer": "ipython3",
   "version": "3.7.1"
  }
 },
 "nbformat": 4,
 "nbformat_minor": 2
}
