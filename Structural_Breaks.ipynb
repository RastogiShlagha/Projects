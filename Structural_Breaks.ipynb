{
  "nbformat": 4,
  "nbformat_minor": 0,
  "metadata": {
    "colab": {
      "name": "Structural Breaks.ipynb",
      "provenance": [],
      "collapsed_sections": [],
      "include_colab_link": true
    },
    "kernelspec": {
      "name": "python3",
      "display_name": "Python 3"
    },
    "accelerator": "GPU"
  },
  "cells": [
    {
      "cell_type": "markdown",
      "metadata": {
        "id": "view-in-github",
        "colab_type": "text"
      },
      "source": [
        "<a href=\"https://colab.research.google.com/github/RastogiShlagha/Projects/blob/master/Structural_Breaks.ipynb\" target=\"_parent\"><img src=\"https://colab.research.google.com/assets/colab-badge.svg\" alt=\"Open In Colab\"/></a>"
      ]
    },
    {
      "cell_type": "markdown",
      "metadata": {
        "id": "7SWofgXkUtdX",
        "colab_type": "text"
      },
      "source": [
        "Chow's Test"
      ]
    },
    {
      "cell_type": "code",
      "metadata": {
        "id": "lndJTLX56F1r",
        "colab_type": "code",
        "colab": {
          "base_uri": "https://localhost:8080/",
          "height": 219
        },
        "outputId": "bab061f5-ed28-4aaa-d971-78d2ff09434f"
      },
      "source": [
        "import numpy as np\n",
        "import pandas as pd\n",
        "\n",
        "df = pd.read_csv(\"/content/financial_time_series.csv\")\n",
        "print(df.shape)\n",
        "df.head()"
      ],
      "execution_count": 1,
      "outputs": [
        {
          "output_type": "stream",
          "text": [
            "(87, 3)\n"
          ],
          "name": "stdout"
        },
        {
          "output_type": "execute_result",
          "data": {
            "text/html": [
              "<div>\n",
              "<style scoped>\n",
              "    .dataframe tbody tr th:only-of-type {\n",
              "        vertical-align: middle;\n",
              "    }\n",
              "\n",
              "    .dataframe tbody tr th {\n",
              "        vertical-align: top;\n",
              "    }\n",
              "\n",
              "    .dataframe thead th {\n",
              "        text-align: right;\n",
              "    }\n",
              "</style>\n",
              "<table border=\"1\" class=\"dataframe\">\n",
              "  <thead>\n",
              "    <tr style=\"text-align: right;\">\n",
              "      <th></th>\n",
              "      <th>Year</th>\n",
              "      <th>LogEqPrem</th>\n",
              "      <th>BookMarket</th>\n",
              "    </tr>\n",
              "  </thead>\n",
              "  <tbody>\n",
              "    <tr>\n",
              "      <th>0</th>\n",
              "      <td>1927</td>\n",
              "      <td>0.280823</td>\n",
              "      <td>0.374689</td>\n",
              "    </tr>\n",
              "    <tr>\n",
              "      <th>1</th>\n",
              "      <td>1928</td>\n",
              "      <td>0.313824</td>\n",
              "      <td>0.259667</td>\n",
              "    </tr>\n",
              "    <tr>\n",
              "      <th>2</th>\n",
              "      <td>1929</td>\n",
              "      <td>-0.112428</td>\n",
              "      <td>0.338458</td>\n",
              "    </tr>\n",
              "    <tr>\n",
              "      <th>3</th>\n",
              "      <td>1930</td>\n",
              "      <td>-0.288025</td>\n",
              "      <td>0.554745</td>\n",
              "    </tr>\n",
              "    <tr>\n",
              "      <th>4</th>\n",
              "      <td>1931</td>\n",
              "      <td>-0.563742</td>\n",
              "      <td>1.170732</td>\n",
              "    </tr>\n",
              "  </tbody>\n",
              "</table>\n",
              "</div>"
            ],
            "text/plain": [
              "   Year  LogEqPrem  BookMarket\n",
              "0  1927   0.280823    0.374689\n",
              "1  1928   0.313824    0.259667\n",
              "2  1929  -0.112428    0.338458\n",
              "3  1930  -0.288025    0.554745\n",
              "4  1931  -0.563742    1.170732"
            ]
          },
          "metadata": {
            "tags": []
          },
          "execution_count": 1
        }
      ]
    },
    {
      "cell_type": "code",
      "metadata": {
        "id": "M12nu4xv6KpO",
        "colab_type": "code",
        "colab": {}
      },
      "source": [
        "# Taking one set from (-)inf-->1980\n",
        "x1 = df[df['Year'] < 1980]['BookMarket']\n",
        "y1 = df[df['Year'] < 1980]['LogEqPrem']\n",
        "\n",
        "# Taking another set from 1980-->(+)inf\n",
        "x2 = df[df['Year'] >= 1980]['BookMarket']\n",
        "y2 = df[df['Year'] >= 1980]['LogEqPrem']"
      ],
      "execution_count": 0,
      "outputs": []
    },
    {
      "cell_type": "code",
      "metadata": {
        "id": "WfGiLp3TPqq1",
        "colab_type": "code",
        "outputId": "a01159de-aabb-4643-a98f-6c4f5b45e8f6",
        "colab": {
          "base_uri": "https://localhost:8080/",
          "height": 280
        }
      },
      "source": [
        "!git clone https://github.com/jtloong/chow-test.git\n",
        "%cd chow-test\n",
        "!pip install ."
      ],
      "execution_count": 3,
      "outputs": [
        {
          "output_type": "stream",
          "text": [
            "fatal: destination path 'chow-test' already exists and is not an empty directory.\n",
            "/content/chow-test\n",
            "Processing /content/chow-test\n",
            "Requirement already satisfied: numpy in /usr/local/lib/python3.6/dist-packages (from chow-test==1.0) (1.17.4)\n",
            "Building wheels for collected packages: chow-test\n",
            "  Building wheel for chow-test (setup.py) ... \u001b[?25l\u001b[?25hdone\n",
            "  Created wheel for chow-test: filename=chow_test-1.0-cp36-none-any.whl size=1992 sha256=ee54850e0f74db32fc9d1143cdb5d0debd9535b7202e77bbbc2c2d2834955bc4\n",
            "  Stored in directory: /root/.cache/pip/wheels/db/11/39/c6433d50552b1078edf50e95d142bb4c9d9e2854127e648358\n",
            "Successfully built chow-test\n",
            "Installing collected packages: chow-test\n",
            "  Found existing installation: chow-test 1.0\n",
            "    Uninstalling chow-test-1.0:\n",
            "      Successfully uninstalled chow-test-1.0\n",
            "Successfully installed chow-test-1.0\n"
          ],
          "name": "stdout"
        }
      ]
    },
    {
      "cell_type": "code",
      "metadata": {
        "id": "v7cgWAkbSYUq",
        "colab_type": "code",
        "outputId": "34f028f3-7c5f-434c-95bf-e0e169ceeafa",
        "colab": {
          "base_uri": "https://localhost:8080/",
          "height": 35
        }
      },
      "source": [
        "import chow_test\n",
        "\n",
        "# Don't execute this command--> (Did just for experiment)\n",
        "f_test = chow_test.f_value(x1, y1, x2, y2)\n",
        "print(f_test)"
      ],
      "execution_count": 5,
      "outputs": [
        {
          "output_type": "stream",
          "text": [
            "[18.3842993]\n"
          ],
          "name": "stdout"
        }
      ]
    },
    {
      "cell_type": "code",
      "metadata": {
        "id": "kE1ZZ3zzTMaB",
        "colab_type": "code",
        "outputId": "3d05d5d5-1cf0-47fb-d367-c647b8e83ec3",
        "colab": {
          "base_uri": "https://localhost:8080/",
          "height": 35
        }
      },
      "source": [
        "f_test = chow_test.f_value(y1, x1, y2, x2)\n",
        "print(f_test)"
      ],
      "execution_count": 6,
      "outputs": [
        {
          "output_type": "stream",
          "text": [
            "[2.26875635]\n"
          ],
          "name": "stdout"
        }
      ]
    },
    {
      "cell_type": "code",
      "metadata": {
        "id": "0xDz3I2SP8cJ",
        "colab_type": "code",
        "outputId": "e06fa3c7-0359-41cc-f05c-03cdb414b8f1",
        "colab": {
          "base_uri": "https://localhost:8080/",
          "height": 35
        }
      },
      "source": [
        "p_val = chow_test.p_value(y1, x1, y2, x2)\n",
        "print(p_val)"
      ],
      "execution_count": 7,
      "outputs": [
        {
          "output_type": "stream",
          "text": [
            "0.10981999864729783\n"
          ],
          "name": "stdout"
        }
      ]
    },
    {
      "cell_type": "markdown",
      "metadata": {
        "id": "__p00MFrUx8N",
        "colab_type": "text"
      },
      "source": [
        "Modelling"
      ]
    },
    {
      "cell_type": "code",
      "metadata": {
        "id": "hwqsT07RyZD3",
        "colab_type": "code",
        "colab": {}
      },
      "source": [
        "import numpy as np # linear algebra\n",
        "import pandas as pd # data processing, CSV file I/O (e.g. pd.read_csv)\n",
        "import seaborn as sns\n",
        "import matplotlib.pyplot as plt\n",
        "import xgboost as xgb\n",
        "from xgboost import plot_importance, plot_tree\n",
        "from sklearn.metrics import mean_squared_error, mean_absolute_error\n",
        "plt.style.use('fivethirtyeight')"
      ],
      "execution_count": 0,
      "outputs": []
    },
    {
      "cell_type": "code",
      "metadata": {
        "id": "Bt3CKCzJRjge",
        "colab_type": "code",
        "outputId": "b11acdc7-2548-44ad-ac7f-95626723dc50",
        "colab": {
          "base_uri": "https://localhost:8080/",
          "height": 250
        }
      },
      "source": [
        "import numpy as np\n",
        "import pandas as pd\n",
        "\n",
        "pjme = pd.read_csv(\"/content/financial_time_series.csv\", index_col=[0], parse_dates=[0])\n",
        "print(pjme.shape)\n",
        "pjme.head()"
      ],
      "execution_count": 2,
      "outputs": [
        {
          "output_type": "stream",
          "text": [
            "(87, 2)\n"
          ],
          "name": "stdout"
        },
        {
          "output_type": "execute_result",
          "data": {
            "text/html": [
              "<div>\n",
              "<style scoped>\n",
              "    .dataframe tbody tr th:only-of-type {\n",
              "        vertical-align: middle;\n",
              "    }\n",
              "\n",
              "    .dataframe tbody tr th {\n",
              "        vertical-align: top;\n",
              "    }\n",
              "\n",
              "    .dataframe thead th {\n",
              "        text-align: right;\n",
              "    }\n",
              "</style>\n",
              "<table border=\"1\" class=\"dataframe\">\n",
              "  <thead>\n",
              "    <tr style=\"text-align: right;\">\n",
              "      <th></th>\n",
              "      <th>LogEqPrem</th>\n",
              "      <th>BookMarket</th>\n",
              "    </tr>\n",
              "    <tr>\n",
              "      <th>Year</th>\n",
              "      <th></th>\n",
              "      <th></th>\n",
              "    </tr>\n",
              "  </thead>\n",
              "  <tbody>\n",
              "    <tr>\n",
              "      <th>1927-01-01</th>\n",
              "      <td>0.280823</td>\n",
              "      <td>0.374689</td>\n",
              "    </tr>\n",
              "    <tr>\n",
              "      <th>1928-01-01</th>\n",
              "      <td>0.313824</td>\n",
              "      <td>0.259667</td>\n",
              "    </tr>\n",
              "    <tr>\n",
              "      <th>1929-01-01</th>\n",
              "      <td>-0.112428</td>\n",
              "      <td>0.338458</td>\n",
              "    </tr>\n",
              "    <tr>\n",
              "      <th>1930-01-01</th>\n",
              "      <td>-0.288025</td>\n",
              "      <td>0.554745</td>\n",
              "    </tr>\n",
              "    <tr>\n",
              "      <th>1931-01-01</th>\n",
              "      <td>-0.563742</td>\n",
              "      <td>1.170732</td>\n",
              "    </tr>\n",
              "  </tbody>\n",
              "</table>\n",
              "</div>"
            ],
            "text/plain": [
              "            LogEqPrem  BookMarket\n",
              "Year                             \n",
              "1927-01-01   0.280823    0.374689\n",
              "1928-01-01   0.313824    0.259667\n",
              "1929-01-01  -0.112428    0.338458\n",
              "1930-01-01  -0.288025    0.554745\n",
              "1931-01-01  -0.563742    1.170732"
            ]
          },
          "metadata": {
            "tags": []
          },
          "execution_count": 2
        }
      ]
    },
    {
      "cell_type": "code",
      "metadata": {
        "id": "B0ZTAe1nJnyG",
        "colab_type": "code",
        "colab": {
          "base_uri": "https://localhost:8080/",
          "height": 383
        },
        "outputId": "af2cfb16-9981-4bf8-fb20-52bc7427efda"
      },
      "source": [
        "color_pal = [\"#F8766D\", \"#D39200\", \"#93AA00\", \"#00BA38\", \"#00C19F\", \"#00B9E3\", \"#619CFF\", \"#DB72FB\"]\n",
        "_ = pjme.plot(style='.', figsize=(15,5), color=color_pal[0], title='PJM East')"
      ],
      "execution_count": 3,
      "outputs": [
        {
          "output_type": "display_data",
          "data": {
            "image/png": "[encoded data removed]",
            "text/plain": [
              "<Figure size 1080x360 with 1 Axes>"
            ]
          },
          "metadata": {
            "tags": []
          }
        }
      ]
    },
    {
      "cell_type": "code",
      "metadata": {
        "id": "3QALylDPVIqn",
        "colab_type": "code",
        "colab": {}
      },
      "source": [
        "def split_data(data, split_date):\n",
        "    return data[data.index <= split_date].copy(), \\\n",
        "           data[data.index >  split_date].copy()"
      ],
      "execution_count": 0,
      "outputs": []
    },
    {
      "cell_type": "code",
      "metadata": {
        "id": "ssHC_wibWLb-",
        "colab_type": "code",
        "colab": {}
      },
      "source": [
        "train, test = split_data(pjme, '1990')"
      ],
      "execution_count": 0,
      "outputs": []
    },
    {
      "cell_type": "code",
      "metadata": {
        "id": "OXdcpwTtzN5d",
        "colab_type": "code",
        "colab": {
          "base_uri": "https://localhost:8080/",
          "height": 446
        },
        "outputId": "4577794a-7a8e-4115-e13f-dca9a505fd29"
      },
      "source": [
        "train"
      ],
      "execution_count": 8,
      "outputs": [
        {
          "output_type": "execute_result",
          "data": {
            "text/html": [
              "<div>\n",
              "<style scoped>\n",
              "    .dataframe tbody tr th:only-of-type {\n",
              "        vertical-align: middle;\n",
              "    }\n",
              "\n",
              "    .dataframe tbody tr th {\n",
              "        vertical-align: top;\n",
              "    }\n",
              "\n",
              "    .dataframe thead th {\n",
              "        text-align: right;\n",
              "    }\n",
              "</style>\n",
              "<table border=\"1\" class=\"dataframe\">\n",
              "  <thead>\n",
              "    <tr style=\"text-align: right;\">\n",
              "      <th></th>\n",
              "      <th>LogEqPrem</th>\n",
              "      <th>BookMarket</th>\n",
              "    </tr>\n",
              "    <tr>\n",
              "      <th>Year</th>\n",
              "      <th></th>\n",
              "      <th></th>\n",
              "    </tr>\n",
              "  </thead>\n",
              "  <tbody>\n",
              "    <tr>\n",
              "      <th>1927-01-01</th>\n",
              "      <td>0.280823</td>\n",
              "      <td>0.374689</td>\n",
              "    </tr>\n",
              "    <tr>\n",
              "      <th>1928-01-01</th>\n",
              "      <td>0.313824</td>\n",
              "      <td>0.259667</td>\n",
              "    </tr>\n",
              "    <tr>\n",
              "      <th>1929-01-01</th>\n",
              "      <td>-0.112428</td>\n",
              "      <td>0.338458</td>\n",
              "    </tr>\n",
              "    <tr>\n",
              "      <th>1930-01-01</th>\n",
              "      <td>-0.288025</td>\n",
              "      <td>0.554745</td>\n",
              "    </tr>\n",
              "    <tr>\n",
              "      <th>1931-01-01</th>\n",
              "      <td>-0.563742</td>\n",
              "      <td>1.170732</td>\n",
              "    </tr>\n",
              "    <tr>\n",
              "      <th>...</th>\n",
              "      <td>...</td>\n",
              "      <td>...</td>\n",
              "    </tr>\n",
              "    <tr>\n",
              "      <th>1986-01-01</th>\n",
              "      <td>0.116250</td>\n",
              "      <td>0.498431</td>\n",
              "    </tr>\n",
              "    <tr>\n",
              "      <th>1987-01-01</th>\n",
              "      <td>-0.000989</td>\n",
              "      <td>0.508812</td>\n",
              "    </tr>\n",
              "    <tr>\n",
              "      <th>1988-01-01</th>\n",
              "      <td>0.073728</td>\n",
              "      <td>0.465284</td>\n",
              "    </tr>\n",
              "    <tr>\n",
              "      <th>1989-01-01</th>\n",
              "      <td>0.198247</td>\n",
              "      <td>0.390455</td>\n",
              "    </tr>\n",
              "    <tr>\n",
              "      <th>1990-01-01</th>\n",
              "      <td>-0.097110</td>\n",
              "      <td>0.484497</td>\n",
              "    </tr>\n",
              "  </tbody>\n",
              "</table>\n",
              "<p>64 rows × 2 columns</p>\n",
              "</div>"
            ],
            "text/plain": [
              "            LogEqPrem  BookMarket\n",
              "Year                             \n",
              "1927-01-01   0.280823    0.374689\n",
              "1928-01-01   0.313824    0.259667\n",
              "1929-01-01  -0.112428    0.338458\n",
              "1930-01-01  -0.288025    0.554745\n",
              "1931-01-01  -0.563742    1.170732\n",
              "...               ...         ...\n",
              "1986-01-01   0.116250    0.498431\n",
              "1987-01-01  -0.000989    0.508812\n",
              "1988-01-01   0.073728    0.465284\n",
              "1989-01-01   0.198247    0.390455\n",
              "1990-01-01  -0.097110    0.484497\n",
              "\n",
              "[64 rows x 2 columns]"
            ]
          },
          "metadata": {
            "tags": []
          },
          "execution_count": 8
        }
      ]
    },
    {
      "cell_type": "code",
      "metadata": {
        "id": "8I2KXqhyYTbH",
        "colab_type": "code",
        "colab": {}
      },
      "source": [
        "def create_features(df):\n",
        "    \"\"\"\n",
        "    Creates time series features from datetime index\n",
        "    \"\"\"\n",
        "    df['date'] = df.index\n",
        "    df['hour'] = df['date'].dt.hour\n",
        "    df['dayofweek'] = df['date'].dt.dayofweek\n",
        "    df['quarter'] = df['date'].dt.quarter\n",
        "    df['month'] = df['date'].dt.month\n",
        "    df['year'] = df['date'].dt.year\n",
        "    df['dayofyear'] = df['date'].dt.dayofyear\n",
        "    df['dayofmonth'] = df['date'].dt.day\n",
        "    df['weekofyear'] = df['date'].dt.weekofyear\n",
        "    \n",
        "    X = df[['hour','dayofweek','quarter','month','year',\n",
        "           'dayofyear','dayofmonth','weekofyear']]\n",
        "    return X\n"
      ],
      "execution_count": 0,
      "outputs": []
    },
    {
      "cell_type": "code",
      "metadata": {
        "id": "r8CJAv2KZqb8",
        "colab_type": "code",
        "colab": {}
      },
      "source": [
        "X_train, y_train = create_features(train), train['BookMarket']\n",
        "X_test, y_test   = create_features(test), test['BookMarket']"
      ],
      "execution_count": 0,
      "outputs": []
    },
    {
      "cell_type": "code",
      "metadata": {
        "id": "RRyXdtS8zXhR",
        "colab_type": "code",
        "colab": {
          "base_uri": "https://localhost:8080/",
          "height": 446
        },
        "outputId": "5f17650b-8f88-4170-bf9e-1e8fb424b152"
      },
      "source": [
        "X_train"
      ],
      "execution_count": 11,
      "outputs": [
        {
          "output_type": "execute_result",
          "data": {
            "text/html": [
              "<div>\n",
              "<style scoped>\n",
              "    .dataframe tbody tr th:only-of-type {\n",
              "        vertical-align: middle;\n",
              "    }\n",
              "\n",
              "    .dataframe tbody tr th {\n",
              "        vertical-align: top;\n",
              "    }\n",
              "\n",
              "    .dataframe thead th {\n",
              "        text-align: right;\n",
              "    }\n",
              "</style>\n",
              "<table border=\"1\" class=\"dataframe\">\n",
              "  <thead>\n",
              "    <tr style=\"text-align: right;\">\n",
              "      <th></th>\n",
              "      <th>hour</th>\n",
              "      <th>dayofweek</th>\n",
              "      <th>quarter</th>\n",
              "      <th>month</th>\n",
              "      <th>year</th>\n",
              "      <th>dayofyear</th>\n",
              "      <th>dayofmonth</th>\n",
              "      <th>weekofyear</th>\n",
              "    </tr>\n",
              "    <tr>\n",
              "      <th>Year</th>\n",
              "      <th></th>\n",
              "      <th></th>\n",
              "      <th></th>\n",
              "      <th></th>\n",
              "      <th></th>\n",
              "      <th></th>\n",
              "      <th></th>\n",
              "      <th></th>\n",
              "    </tr>\n",
              "  </thead>\n",
              "  <tbody>\n",
              "    <tr>\n",
              "      <th>1927-01-01</th>\n",
              "      <td>0</td>\n",
              "      <td>5</td>\n",
              "      <td>1</td>\n",
              "      <td>1</td>\n",
              "      <td>1927</td>\n",
              "      <td>1</td>\n",
              "      <td>1</td>\n",
              "      <td>52</td>\n",
              "    </tr>\n",
              "    <tr>\n",
              "      <th>1928-01-01</th>\n",
              "      <td>0</td>\n",
              "      <td>6</td>\n",
              "      <td>1</td>\n",
              "      <td>1</td>\n",
              "      <td>1928</td>\n",
              "      <td>1</td>\n",
              "      <td>1</td>\n",
              "      <td>52</td>\n",
              "    </tr>\n",
              "    <tr>\n",
              "      <th>1929-01-01</th>\n",
              "      <td>0</td>\n",
              "      <td>1</td>\n",
              "      <td>1</td>\n",
              "      <td>1</td>\n",
              "      <td>1929</td>\n",
              "      <td>1</td>\n",
              "      <td>1</td>\n",
              "      <td>1</td>\n",
              "    </tr>\n",
              "    <tr>\n",
              "      <th>1930-01-01</th>\n",
              "      <td>0</td>\n",
              "      <td>2</td>\n",
              "      <td>1</td>\n",
              "      <td>1</td>\n",
              "      <td>1930</td>\n",
              "      <td>1</td>\n",
              "      <td>1</td>\n",
              "      <td>1</td>\n",
              "    </tr>\n",
              "    <tr>\n",
              "      <th>1931-01-01</th>\n",
              "      <td>0</td>\n",
              "      <td>3</td>\n",
              "      <td>1</td>\n",
              "      <td>1</td>\n",
              "      <td>1931</td>\n",
              "      <td>1</td>\n",
              "      <td>1</td>\n",
              "      <td>1</td>\n",
              "    </tr>\n",
              "    <tr>\n",
              "      <th>...</th>\n",
              "      <td>...</td>\n",
              "      <td>...</td>\n",
              "      <td>...</td>\n",
              "      <td>...</td>\n",
              "      <td>...</td>\n",
              "      <td>...</td>\n",
              "      <td>...</td>\n",
              "      <td>...</td>\n",
              "    </tr>\n",
              "    <tr>\n",
              "      <th>1986-01-01</th>\n",
              "      <td>0</td>\n",
              "      <td>2</td>\n",
              "      <td>1</td>\n",
              "      <td>1</td>\n",
              "      <td>1986</td>\n",
              "      <td>1</td>\n",
              "      <td>1</td>\n",
              "      <td>1</td>\n",
              "    </tr>\n",
              "    <tr>\n",
              "      <th>1987-01-01</th>\n",
              "      <td>0</td>\n",
              "      <td>3</td>\n",
              "      <td>1</td>\n",
              "      <td>1</td>\n",
              "      <td>1987</td>\n",
              "      <td>1</td>\n",
              "      <td>1</td>\n",
              "      <td>1</td>\n",
              "    </tr>\n",
              "    <tr>\n",
              "      <th>1988-01-01</th>\n",
              "      <td>0</td>\n",
              "      <td>4</td>\n",
              "      <td>1</td>\n",
              "      <td>1</td>\n",
              "      <td>1988</td>\n",
              "      <td>1</td>\n",
              "      <td>1</td>\n",
              "      <td>53</td>\n",
              "    </tr>\n",
              "    <tr>\n",
              "      <th>1989-01-01</th>\n",
              "      <td>0</td>\n",
              "      <td>6</td>\n",
              "      <td>1</td>\n",
              "      <td>1</td>\n",
              "      <td>1989</td>\n",
              "      <td>1</td>\n",
              "      <td>1</td>\n",
              "      <td>52</td>\n",
              "    </tr>\n",
              "    <tr>\n",
              "      <th>1990-01-01</th>\n",
              "      <td>0</td>\n",
              "      <td>0</td>\n",
              "      <td>1</td>\n",
              "      <td>1</td>\n",
              "      <td>1990</td>\n",
              "      <td>1</td>\n",
              "      <td>1</td>\n",
              "      <td>1</td>\n",
              "    </tr>\n",
              "  </tbody>\n",
              "</table>\n",
              "<p>64 rows × 8 columns</p>\n",
              "</div>"
            ],
            "text/plain": [
              "            hour  dayofweek  quarter  ...  dayofyear  dayofmonth  weekofyear\n",
              "Year                                  ...                                   \n",
              "1927-01-01     0          5        1  ...          1           1          52\n",
              "1928-01-01     0          6        1  ...          1           1          52\n",
              "1929-01-01     0          1        1  ...          1           1           1\n",
              "1930-01-01     0          2        1  ...          1           1           1\n",
              "1931-01-01     0          3        1  ...          1           1           1\n",
              "...          ...        ...      ...  ...        ...         ...         ...\n",
              "1986-01-01     0          2        1  ...          1           1           1\n",
              "1987-01-01     0          3        1  ...          1           1           1\n",
              "1988-01-01     0          4        1  ...          1           1          53\n",
              "1989-01-01     0          6        1  ...          1           1          52\n",
              "1990-01-01     0          0        1  ...          1           1           1\n",
              "\n",
              "[64 rows x 8 columns]"
            ]
          },
          "metadata": {
            "tags": []
          },
          "execution_count": 11
        }
      ]
    },
    {
      "cell_type": "code",
      "metadata": {
        "id": "f1CpUKmHzcIW",
        "colab_type": "code",
        "colab": {
          "base_uri": "https://localhost:8080/",
          "height": 243
        },
        "outputId": "55348ade-5c13-42f8-fb94-bbdffb65be5b"
      },
      "source": [
        "y_train"
      ],
      "execution_count": 12,
      "outputs": [
        {
          "output_type": "execute_result",
          "data": {
            "text/plain": [
              "Year\n",
              "1927-01-01    0.374689\n",
              "1928-01-01    0.259667\n",
              "1929-01-01    0.338458\n",
              "1930-01-01    0.554745\n",
              "1931-01-01    1.170732\n",
              "                ...   \n",
              "1986-01-01    0.498431\n",
              "1987-01-01    0.508812\n",
              "1988-01-01    0.465284\n",
              "1989-01-01    0.390455\n",
              "1990-01-01    0.484497\n",
              "Name: BookMarket, Length: 64, dtype: float64"
            ]
          },
          "metadata": {
            "tags": []
          },
          "execution_count": 12
        }
      ]
    },
    {
      "cell_type": "code",
      "metadata": {
        "id": "W3BRWg3ZYZlC",
        "colab_type": "code",
        "outputId": "7e078a01-8e52-44e8-e3c6-5be7b3b4374c",
        "colab": {
          "base_uri": "https://localhost:8080/",
          "height": 225
        }
      },
      "source": [
        "reg = xgb.XGBRegressor(n_estimators=1000)\n",
        "reg.fit(X_train, y_train,\n",
        "        eval_set=[(X_train, y_train), (X_test, y_test)],\n",
        "        early_stopping_rounds=50, #stop if 50 consequent rounds without decrease of error\n",
        "        verbose=False) # Change verbose to True if you want to see it train"
      ],
      "execution_count": 13,
      "outputs": [
        {
          "output_type": "stream",
          "text": [
            "/usr/local/lib/python3.6/dist-packages/xgboost/core.py:587: FutureWarning: Series.base is deprecated and will be removed in a future version\n",
            "  if getattr(data, 'base', None) is not None and \\\n",
            "/usr/local/lib/python3.6/dist-packages/xgboost/core.py:588: FutureWarning: Series.base is deprecated and will be removed in a future version\n",
            "  data.base is not None and isinstance(data, np.ndarray) \\\n"
          ],
          "name": "stderr"
        },
        {
          "output_type": "stream",
          "text": [
            "[06:30:29] WARNING: /workspace/src/objective/regression_obj.cu:152: reg:linear is now deprecated in favor of reg:squarederror.\n"
          ],
          "name": "stdout"
        },
        {
          "output_type": "execute_result",
          "data": {
            "text/plain": [
              "XGBRegressor(base_score=0.5, booster='gbtree', colsample_bylevel=1,\n",
              "             colsample_bynode=1, colsample_bytree=1, gamma=0,\n",
              "             importance_type='gain', learning_rate=0.1, max_delta_step=0,\n",
              "             max_depth=3, min_child_weight=1, missing=None, n_estimators=1000,\n",
              "             n_jobs=1, nthread=None, objective='reg:linear', random_state=0,\n",
              "             reg_alpha=0, reg_lambda=1, scale_pos_weight=1, seed=None,\n",
              "             silent=None, subsample=1, verbosity=1)"
            ]
          },
          "metadata": {
            "tags": []
          },
          "execution_count": 13
        }
      ]
    },
    {
      "cell_type": "code",
      "metadata": {
        "id": "A1WuOz3aYgbQ",
        "colab_type": "code",
        "colab": {}
      },
      "source": [
        "y_pred = reg.predict(X_test)"
      ],
      "execution_count": 0,
      "outputs": []
    },
    {
      "cell_type": "code",
      "metadata": {
        "id": "5A8_MQpFakFK",
        "colab_type": "code",
        "outputId": "7bae0ea7-5343-4a54-a71b-03b769c49c62",
        "colab": {
          "base_uri": "https://localhost:8080/",
          "height": 343
        }
      },
      "source": [
        "xgb.plot_importance(reg, height=0.9)"
      ],
      "execution_count": 16,
      "outputs": [
        {
          "output_type": "execute_result",
          "data": {
            "text/plain": [
              "<matplotlib.axes._subplots.AxesSubplot at 0x7f7e66c200b8>"
            ]
          },
          "metadata": {
            "tags": []
          },
          "execution_count": 16
        },
        {
          "output_type": "display_data",
          "data": {
            "image/png": "[encoded data removed]",
            "text/plain": [
              "<Figure size 432x288 with 1 Axes>"
            ]
          },
          "metadata": {
            "tags": []
          }
        }
      ]
    },
    {
      "cell_type": "code",
      "metadata": {
        "id": "iMJqP9MwatCW",
        "colab_type": "code",
        "outputId": "3c4af819-823b-43bd-b270-3493857274e0",
        "colab": {
          "base_uri": "https://localhost:8080/",
          "height": 343
        }
      },
      "source": [
        "xgb.plot_importance(reg, height=0.9)"
      ],
      "execution_count": 0,
      "outputs": [
        {
          "output_type": "execute_result",
          "data": {
            "text/plain": [
              "<matplotlib.axes._subplots.AxesSubplot at 0x7fdb8b6400b8>"
            ]
          },
          "metadata": {
            "tags": []
          },
          "execution_count": 55
        },
        {
          "output_type": "display_data",
          "data": {
            "image/png": "[encoded data removed]",
            "text/plain": [
              "<Figure size 432x288 with 1 Axes>"
            ]
          },
          "metadata": {
            "tags": []
          }
        }
      ]
    },
    {
      "cell_type": "code",
      "metadata": {
        "id": "BX3xG9cDa73O",
        "colab_type": "code",
        "outputId": "5e6835f4-6237-4b86-8833-9d6bafb2ad95",
        "colab": {
          "base_uri": "https://localhost:8080/",
          "height": 515
        }
      },
      "source": [
        "def plot_performance(base_data, date_from, date_to, title=None):\n",
        "    plt.figure(figsize=(15,3))\n",
        "    if title == None:\n",
        "        plt.title('From {0} To {1}'.format(date_from, date_to))\n",
        "    else:\n",
        "        plt.title(title)\n",
        "    plt.xlabel('time')\n",
        "    plt.ylabel('energy consumed')\n",
        "    plt.plot(pjme.index,pjme, label='data')\n",
        "    plt.plot(X_test.index,X_test_pred, label='prediction')\n",
        "    plt.legend()\n",
        "    plt.xlim(left=date_from, right=date_to)\n",
        "X_test_pred = reg.predict(X_test)\n",
        "    \n",
        "plot_performance(pjme, pjme.index[0].date(), pjme.index[-1].date(),\n",
        "                 'Original and Predicted Data')\n",
        "\n",
        "plot_performance(y_test, y_test.index[0].date(), y_test.index[-1].date(),\n",
        "                 'Test and Predicted Data')\n",
        "\n",
        "\n",
        "\n",
        "plt.legend()\n",
        "\n",
        "plt.show()\n"
      ],
      "execution_count": 17,
      "outputs": [
        {
          "output_type": "display_data",
          "data": {
            "image/png": "[encoded data removed]",
            "text/plain": [
              "<Figure size 1080x216 with 1 Axes>"
            ]
          },
          "metadata": {
            "tags": []
          }
        },
        {
          "output_type": "display_data",
          "data": {
            "image/png": "[encoded data removed]",
            "text/plain": [
              "<Figure size 1080x216 with 1 Axes>"
            ]
          },
          "metadata": {
            "tags": []
          }
        }
      ]
    },
    {
      "cell_type": "code",
      "metadata": {
        "id": "iH4m9m7GbIuE",
        "colab_type": "code",
        "outputId": "1fa20021-2ca6-4721-edec-cf6af51e2140",
        "colab": {
          "base_uri": "https://localhost:8080/",
          "height": 35
        }
      },
      "source": [
        "mean_squared_error(y_true=y_test,\n",
        "                   y_pred=X_test_pred)"
      ],
      "execution_count": 18,
      "outputs": [
        {
          "output_type": "execute_result",
          "data": {
            "text/plain": [
              "0.03864184717299937"
            ]
          },
          "metadata": {
            "tags": []
          },
          "execution_count": 18
        }
      ]
    },
    {
      "cell_type": "code",
      "metadata": {
        "id": "jD18Lzd8bdWB",
        "colab_type": "code",
        "outputId": "7e7fd9ac-5e40-4aed-b715-4a8641a82155",
        "colab": {
          "base_uri": "https://localhost:8080/",
          "height": 35
        }
      },
      "source": [
        "mean_absolute_error(y_true=y_test,\n",
        "                   y_pred=X_test_pred)"
      ],
      "execution_count": 19,
      "outputs": [
        {
          "output_type": "execute_result",
          "data": {
            "text/plain": [
              "0.17405322610765142"
            ]
          },
          "metadata": {
            "tags": []
          },
          "execution_count": 19
        }
      ]
    },
    {
      "cell_type": "code",
      "metadata": {
        "id": "s26FmYhUbftj",
        "colab_type": "code",
        "colab": {}
      },
      "source": [
        "def mean_absolute_percentage_error(y_true, y_pred): \n",
        "    \"\"\"Calculates MAPE given y_true and y_pred\"\"\"\n",
        "    y_true, y_pred = np.array(y_true), np.array(y_pred)\n",
        "    return np.mean(np.abs((y_true - y_pred) / y_true)) * 100"
      ],
      "execution_count": 0,
      "outputs": []
    },
    {
      "cell_type": "code",
      "metadata": {
        "id": "EabhiMDLbjHf",
        "colab_type": "code",
        "outputId": "b1533dc0-14bb-4fb5-d94b-09f10763a8cf",
        "colab": {
          "base_uri": "https://localhost:8080/",
          "height": 35
        }
      },
      "source": [
        "mean_absolute_percentage_error(y_test,X_test_pred)"
      ],
      "execution_count": 21,
      "outputs": [
        {
          "output_type": "execute_result",
          "data": {
            "text/plain": [
              "81.93612927605443"
            ]
          },
          "metadata": {
            "tags": []
          },
          "execution_count": 21
        }
      ]
    },
    {
      "cell_type": "code",
      "metadata": {
        "id": "_SRiI7y2blJd",
        "colab_type": "code",
        "colab": {
          "base_uri": "https://localhost:8080/",
          "height": 225
        },
        "outputId": "e134992c-8315-4f88-96a8-1d34728a8667"
      },
      "source": [
        "error_by_week = []\n",
        "random_weeks = X_test[['year', 'weekofyear']].sample(10)\n",
        "for week in random_weeks.iterrows():\n",
        "    index = (X_test.year == week[1].year) & \\\n",
        "            (X_test.weekofyear == week[1].weekofyear)\n",
        "    error_by_week.append(mean_absolute_percentage_error(y_test[index], X_test_pred[index]))\n",
        "pd.Series(error_by_week, index=random_weeks.index)"
      ],
      "execution_count": 22,
      "outputs": [
        {
          "output_type": "execute_result",
          "data": {
            "text/plain": [
              "Year\n",
              "2009-01-01    44.025553\n",
              "1992-01-01    20.947283\n",
              "2010-01-01    27.035503\n",
              "2008-01-01    35.252945\n",
              "2011-01-01    11.088190\n",
              "2002-01-01    62.542161\n",
              "2013-01-01    57.724639\n",
              "1995-01-01    53.616282\n",
              "2007-01-01    93.398448\n",
              "2004-01-01    73.249814\n",
              "dtype: float64"
            ]
          },
          "metadata": {
            "tags": []
          },
          "execution_count": 22
        }
      ]
    },
    {
      "cell_type": "code",
      "metadata": {
        "id": "ZfokQBRIz9yS",
        "colab_type": "code",
        "colab": {
          "base_uri": "https://localhost:8080/",
          "height": 594
        },
        "outputId": "87572092-813a-48fb-fcf0-8616b78f79bf"
      },
      "source": [
        "X_test['BookMarket'] = y_test\n",
        "X_test['Prediction'] = X_test_pred\n",
        "X_test['error'] = y_test - X_test_pred\n",
        "X_test['abs_error'] = X_test['error'].apply(np.abs)\n",
        "error_by_day = X_test.groupby(['year','month','dayofmonth']) \\\n",
        "   .mean()[['BookMarket','Prediction','error','abs_error']]\n",
        "\n",
        "error_by_day.sort_values('error', ascending=True).head(10)"
      ],
      "execution_count": 23,
      "outputs": [
        {
          "output_type": "stream",
          "text": [
            "/usr/local/lib/python3.6/dist-packages/ipykernel_launcher.py:1: SettingWithCopyWarning: \n",
            "A value is trying to be set on a copy of a slice from a DataFrame.\n",
            "Try using .loc[row_indexer,col_indexer] = value instead\n",
            "\n",
            "See the caveats in the documentation: http://pandas.pydata.org/pandas-docs/stable/user_guide/indexing.html#returning-a-view-versus-a-copy\n",
            "  \"\"\"Entry point for launching an IPython kernel.\n",
            "/usr/local/lib/python3.6/dist-packages/ipykernel_launcher.py:2: SettingWithCopyWarning: \n",
            "A value is trying to be set on a copy of a slice from a DataFrame.\n",
            "Try using .loc[row_indexer,col_indexer] = value instead\n",
            "\n",
            "See the caveats in the documentation: http://pandas.pydata.org/pandas-docs/stable/user_guide/indexing.html#returning-a-view-versus-a-copy\n",
            "  \n"
          ],
          "name": "stderr"
        },
        {
          "output_type": "execute_result",
          "data": {
            "text/html": [
              "<div>\n",
              "<style scoped>\n",
              "    .dataframe tbody tr th:only-of-type {\n",
              "        vertical-align: middle;\n",
              "    }\n",
              "\n",
              "    .dataframe tbody tr th {\n",
              "        vertical-align: top;\n",
              "    }\n",
              "\n",
              "    .dataframe thead th {\n",
              "        text-align: right;\n",
              "    }\n",
              "</style>\n",
              "<table border=\"1\" class=\"dataframe\">\n",
              "  <thead>\n",
              "    <tr style=\"text-align: right;\">\n",
              "      <th></th>\n",
              "      <th></th>\n",
              "      <th></th>\n",
              "      <th>BookMarket</th>\n",
              "      <th>Prediction</th>\n",
              "      <th>error</th>\n",
              "      <th>abs_error</th>\n",
              "    </tr>\n",
              "    <tr>\n",
              "      <th>year</th>\n",
              "      <th>month</th>\n",
              "      <th>dayofmonth</th>\n",
              "      <th></th>\n",
              "      <th></th>\n",
              "      <th></th>\n",
              "      <th></th>\n",
              "    </tr>\n",
              "  </thead>\n",
              "  <tbody>\n",
              "    <tr>\n",
              "      <th>2001</th>\n",
              "      <th>1</th>\n",
              "      <th>1</th>\n",
              "      <td>0.131218</td>\n",
              "      <td>0.484624</td>\n",
              "      <td>-0.353406</td>\n",
              "      <td>0.353406</td>\n",
              "    </tr>\n",
              "    <tr>\n",
              "      <th>1999</th>\n",
              "      <th>1</th>\n",
              "      <th>1</th>\n",
              "      <td>0.147167</td>\n",
              "      <td>0.454915</td>\n",
              "      <td>-0.307747</td>\n",
              "      <td>0.307747</td>\n",
              "    </tr>\n",
              "    <tr>\n",
              "      <th>1997</th>\n",
              "      <th>1</th>\n",
              "      <th>1</th>\n",
              "      <td>0.178801</td>\n",
              "      <td>0.476665</td>\n",
              "      <td>-0.297864</td>\n",
              "      <td>0.297864</td>\n",
              "    </tr>\n",
              "    <tr>\n",
              "      <th>1998</th>\n",
              "      <th>1</th>\n",
              "      <th>1</th>\n",
              "      <td>0.173611</td>\n",
              "      <td>0.468847</td>\n",
              "      <td>-0.295236</td>\n",
              "      <td>0.295236</td>\n",
              "    </tr>\n",
              "    <tr>\n",
              "      <th>1996</th>\n",
              "      <th>1</th>\n",
              "      <th>1</th>\n",
              "      <td>0.207343</td>\n",
              "      <td>0.484624</td>\n",
              "      <td>-0.277281</td>\n",
              "      <td>0.277281</td>\n",
              "    </tr>\n",
              "    <tr>\n",
              "      <th>2003</th>\n",
              "      <th>1</th>\n",
              "      <th>1</th>\n",
              "      <td>0.218740</td>\n",
              "      <td>0.476665</td>\n",
              "      <td>-0.257925</td>\n",
              "      <td>0.257925</td>\n",
              "    </tr>\n",
              "    <tr>\n",
              "      <th>2000</th>\n",
              "      <th>1</th>\n",
              "      <th>1</th>\n",
              "      <td>0.151852</td>\n",
              "      <td>0.396843</td>\n",
              "      <td>-0.244992</td>\n",
              "      <td>0.244992</td>\n",
              "    </tr>\n",
              "    <tr>\n",
              "      <th>2007</th>\n",
              "      <th>1</th>\n",
              "      <th>1</th>\n",
              "      <td>0.250583</td>\n",
              "      <td>0.484624</td>\n",
              "      <td>-0.234041</td>\n",
              "      <td>0.234041</td>\n",
              "    </tr>\n",
              "    <tr>\n",
              "      <th>2004</th>\n",
              "      <th>1</th>\n",
              "      <th>1</th>\n",
              "      <td>0.270619</td>\n",
              "      <td>0.468847</td>\n",
              "      <td>-0.198228</td>\n",
              "      <td>0.198228</td>\n",
              "    </tr>\n",
              "    <tr>\n",
              "      <th>2002</th>\n",
              "      <th>1</th>\n",
              "      <th>1</th>\n",
              "      <td>0.295386</td>\n",
              "      <td>0.480127</td>\n",
              "      <td>-0.184741</td>\n",
              "      <td>0.184741</td>\n",
              "    </tr>\n",
              "  </tbody>\n",
              "</table>\n",
              "</div>"
            ],
            "text/plain": [
              "                       BookMarket  Prediction     error  abs_error\n",
              "year month dayofmonth                                             \n",
              "2001 1     1             0.131218    0.484624 -0.353406   0.353406\n",
              "1999 1     1             0.147167    0.454915 -0.307747   0.307747\n",
              "1997 1     1             0.178801    0.476665 -0.297864   0.297864\n",
              "1998 1     1             0.173611    0.468847 -0.295236   0.295236\n",
              "1996 1     1             0.207343    0.484624 -0.277281   0.277281\n",
              "2003 1     1             0.218740    0.476665 -0.257925   0.257925\n",
              "2000 1     1             0.151852    0.396843 -0.244992   0.244992\n",
              "2007 1     1             0.250583    0.484624 -0.234041   0.234041\n",
              "2004 1     1             0.270619    0.468847 -0.198228   0.198228\n",
              "2002 1     1             0.295386    0.480127 -0.184741   0.184741"
            ]
          },
          "metadata": {
            "tags": []
          },
          "execution_count": 23
        }
      ]
    },
    {
      "cell_type": "code",
      "metadata": {
        "id": "91-AUhi_0Acs",
        "colab_type": "code",
        "colab": {
          "base_uri": "https://localhost:8080/",
          "height": 386
        },
        "outputId": "9bcdae65-1830-4440-e3f4-50e1e89c9d20"
      },
      "source": [
        "error_by_day.sort_values('abs_error', ascending=True).head(10)"
      ],
      "execution_count": 24,
      "outputs": [
        {
          "output_type": "execute_result",
          "data": {
            "text/html": [
              "<div>\n",
              "<style scoped>\n",
              "    .dataframe tbody tr th:only-of-type {\n",
              "        vertical-align: middle;\n",
              "    }\n",
              "\n",
              "    .dataframe tbody tr th {\n",
              "        vertical-align: top;\n",
              "    }\n",
              "\n",
              "    .dataframe thead th {\n",
              "        text-align: right;\n",
              "    }\n",
              "</style>\n",
              "<table border=\"1\" class=\"dataframe\">\n",
              "  <thead>\n",
              "    <tr style=\"text-align: right;\">\n",
              "      <th></th>\n",
              "      <th></th>\n",
              "      <th></th>\n",
              "      <th>BookMarket</th>\n",
              "      <th>Prediction</th>\n",
              "      <th>error</th>\n",
              "      <th>abs_error</th>\n",
              "    </tr>\n",
              "    <tr>\n",
              "      <th>year</th>\n",
              "      <th>month</th>\n",
              "      <th>dayofmonth</th>\n",
              "      <th></th>\n",
              "      <th></th>\n",
              "      <th></th>\n",
              "      <th></th>\n",
              "    </tr>\n",
              "  </thead>\n",
              "  <tbody>\n",
              "    <tr>\n",
              "      <th>2011</th>\n",
              "      <th>1</th>\n",
              "      <th>1</th>\n",
              "      <td>0.357233</td>\n",
              "      <td>0.396843</td>\n",
              "      <td>-0.039611</td>\n",
              "      <td>0.039611</td>\n",
              "    </tr>\n",
              "    <tr>\n",
              "      <th>2012</th>\n",
              "      <th>1</th>\n",
              "      <th>1</th>\n",
              "      <td>0.349032</td>\n",
              "      <td>0.391762</td>\n",
              "      <td>-0.042730</td>\n",
              "      <td>0.042730</td>\n",
              "    </tr>\n",
              "    <tr>\n",
              "      <th>1991</th>\n",
              "      <th>1</th>\n",
              "      <th>1</th>\n",
              "      <td>0.420344</td>\n",
              "      <td>0.480127</td>\n",
              "      <td>-0.059782</td>\n",
              "      <td>0.059782</td>\n",
              "    </tr>\n",
              "    <tr>\n",
              "      <th>1992</th>\n",
              "      <th>1</th>\n",
              "      <th>1</th>\n",
              "      <td>0.394110</td>\n",
              "      <td>0.476665</td>\n",
              "      <td>-0.082555</td>\n",
              "      <td>0.082555</td>\n",
              "    </tr>\n",
              "    <tr>\n",
              "      <th>2005</th>\n",
              "      <th>1</th>\n",
              "      <th>1</th>\n",
              "      <td>0.313478</td>\n",
              "      <td>0.397835</td>\n",
              "      <td>-0.084357</td>\n",
              "      <td>0.084357</td>\n",
              "    </tr>\n",
              "    <tr>\n",
              "      <th>2010</th>\n",
              "      <th>1</th>\n",
              "      <th>1</th>\n",
              "      <td>0.358100</td>\n",
              "      <td>0.454915</td>\n",
              "      <td>-0.096814</td>\n",
              "      <td>0.096814</td>\n",
              "    </tr>\n",
              "    <tr>\n",
              "      <th>1994</th>\n",
              "      <th>1</th>\n",
              "      <th>1</th>\n",
              "      <td>0.291568</td>\n",
              "      <td>0.396843</td>\n",
              "      <td>-0.105275</td>\n",
              "      <td>0.105275</td>\n",
              "    </tr>\n",
              "    <tr>\n",
              "      <th>2006</th>\n",
              "      <th>1</th>\n",
              "      <th>1</th>\n",
              "      <td>0.281682</td>\n",
              "      <td>0.391762</td>\n",
              "      <td>-0.110080</td>\n",
              "      <td>0.110080</td>\n",
              "    </tr>\n",
              "    <tr>\n",
              "      <th>2008</th>\n",
              "      <th>1</th>\n",
              "      <th>1</th>\n",
              "      <td>0.354984</td>\n",
              "      <td>0.480127</td>\n",
              "      <td>-0.125142</td>\n",
              "      <td>0.125142</td>\n",
              "    </tr>\n",
              "    <tr>\n",
              "      <th>1995</th>\n",
              "      <th>1</th>\n",
              "      <th>1</th>\n",
              "      <td>0.255026</td>\n",
              "      <td>0.391762</td>\n",
              "      <td>-0.136736</td>\n",
              "      <td>0.136736</td>\n",
              "    </tr>\n",
              "  </tbody>\n",
              "</table>\n",
              "</div>"
            ],
            "text/plain": [
              "                       BookMarket  Prediction     error  abs_error\n",
              "year month dayofmonth                                             \n",
              "2011 1     1             0.357233    0.396843 -0.039611   0.039611\n",
              "2012 1     1             0.349032    0.391762 -0.042730   0.042730\n",
              "1991 1     1             0.420344    0.480127 -0.059782   0.059782\n",
              "1992 1     1             0.394110    0.476665 -0.082555   0.082555\n",
              "2005 1     1             0.313478    0.397835 -0.084357   0.084357\n",
              "2010 1     1             0.358100    0.454915 -0.096814   0.096814\n",
              "1994 1     1             0.291568    0.396843 -0.105275   0.105275\n",
              "2006 1     1             0.281682    0.391762 -0.110080   0.110080\n",
              "2008 1     1             0.354984    0.480127 -0.125142   0.125142\n",
              "1995 1     1             0.255026    0.391762 -0.136736   0.136736"
            ]
          },
          "metadata": {
            "tags": []
          },
          "execution_count": 24
        }
      ]
    },
    {
      "cell_type": "code",
      "metadata": {
        "id": "-FCgotvz0DGu",
        "colab_type": "code",
        "colab": {}
      },
      "source": [
        ""
      ],
      "execution_count": 0,
      "outputs": []
    }
  ]
}