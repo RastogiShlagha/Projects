{
 "cells": [
  {
   "cell_type": "code",
   "execution_count": null,
   "metadata": {},
   "outputs": [],
   "source": [
    "# 1. Load the dataset. Lowercase the dataset.\n",
    "# 2. Vectorize the dataset using tfidf vectorizer\n",
    "# 3. Truncate the dataset using truncated svd\n",
    "# 4. Zip the words from tfidf vectorization process to their truncated vectors\n",
    "# 5. Sort them and print the desired number of words in each topic."
   ]
  },
  {
   "cell_type": "code",
   "execution_count": 1,
   "metadata": {},
   "outputs": [],
   "source": [
    "# Starting with an example of 7 sentence list\n",
    "data = [\"The amount of pollution is increasing day by day\",\n",
    "\"The concert was just great\", \"I love to see Gordon Ramsay cook\",\n",
    "\"Google is introducing a new technlogy\", \"AI robots are great example of great technology present today\",\n",
    "\"All of us were singing in the concert\", \"We have launch campaigns to stop pollution and global warming\"]"
   ]
  },
  {
   "cell_type": "code",
   "execution_count": 2,
   "metadata": {},
   "outputs": [],
   "source": [
    "# Importing the required libraries\n",
    "from sklearn.feature_extraction.text import TfidfVectorizer\n",
    "from sklearn.decomposition import TruncatedSVD\n",
    "import pandas as pd\n",
    "import numpy as np\n",
    "import warnings"
   ]
  },
  {
   "cell_type": "code",
   "execution_count": 3,
   "metadata": {},
   "outputs": [],
   "source": [
    "# Converting the sentences to lower case\n",
    "data = [i.lower() for i in data]"
   ]
  },
  {
   "cell_type": "code",
   "execution_count": 8,
   "metadata": {},
   "outputs": [
    {
     "data": {
      "text/plain": [
       "<7x42 sparse matrix of type '<class 'numpy.float64'>'\n",
       "\twith 51 stored elements in Compressed Sparse Row format>"
      ]
     },
     "execution_count": 8,
     "metadata": {},
     "output_type": "execute_result"
    }
   ],
   "source": [
    "# Vectorize the data using TFIDF Vectorizer\n",
    "tfidf = TfidfVectorizer()\n",
    "data_vec = tfidf.fit_transform(data)\n",
    "data_vec"
   ]
  },
  {
   "cell_type": "code",
   "execution_count": 11,
   "metadata": {},
   "outputs": [],
   "source": [
    "#Truncate the vectorized data\n",
    "from sklearn.decomposition import TruncatedSVD\n",
    "trunc_svd = TruncatedSVD(n_components=4, n_iter=100, random_state=42)"
   ]
  },
  {
   "cell_type": "code",
   "execution_count": 12,
   "metadata": {},
   "outputs": [
    {
     "data": {
      "text/plain": [
       "TruncatedSVD(algorithm='randomized', n_components=4, n_iter=100,\n",
       "             random_state=42, tol=0.0)"
      ]
     },
     "execution_count": 12,
     "metadata": {},
     "output_type": "execute_result"
    }
   ],
   "source": [
    "trunc_svd.fit(data_vec)"
   ]
  },
  {
   "cell_type": "code",
   "execution_count": 20,
   "metadata": {},
   "outputs": [
    {
     "data": {
      "text/plain": [
       "4"
      ]
     },
     "execution_count": 20,
     "metadata": {},
     "output_type": "execute_result"
    }
   ],
   "source": [
    "trunc_svd.n_components"
   ]
  },
  {
   "cell_type": "code",
   "execution_count": 15,
   "metadata": {},
   "outputs": [
    {
     "data": {
      "text/plain": [
       "array([ 0.20230022, -0.20857394, -0.07085104, -0.03746641,  0.20230022,\n",
       "       -0.07085104, -0.03746641, -0.14801398,  0.09516616, -0.14170208,\n",
       "        0.20230022, -0.03746641,  0.21834424,  0.09516616,  0.36097342,\n",
       "       -0.03746641, -0.20857394, -0.07085104,  0.21834424,  0.12243203,\n",
       "        0.03026229, -0.03746641,  0.09516616,  0.21834424, -0.05472232,\n",
       "       -0.08991278,  0.20230022,  0.09516616,  0.20230022,  0.09516616,\n",
       "       -0.20857394, -0.03746641,  0.21834424,  0.20230022, -0.17678838,\n",
       "        0.04789575,  0.20230022, -0.20857394, -0.03746641,  0.03026229,\n",
       "       -0.03746641, -0.20857394])"
      ]
     },
     "execution_count": 15,
     "metadata": {},
     "output_type": "execute_result"
    }
   ],
   "source": [
    "trunc_svd.components_[3]"
   ]
  },
  {
   "cell_type": "code",
   "execution_count": 17,
   "metadata": {},
   "outputs": [],
   "source": [
    "# Get the order of unique words from the TF-IDF'ed array\n",
    "word_list = tfidf.get_feature_names()"
   ]
  },
  {
   "cell_type": "code",
   "execution_count": 18,
   "metadata": {},
   "outputs": [
    {
     "data": {
      "text/plain": [
       "42"
      ]
     },
     "execution_count": 18,
     "metadata": {},
     "output_type": "execute_result"
    }
   ],
   "source": [
    "len(word_list)"
   ]
  },
  {
   "cell_type": "code",
   "execution_count": 22,
   "metadata": {},
   "outputs": [
    {
     "name": "stdout",
     "output_type": "stream",
     "text": [
      "\n",
      "Topic 0 ;\n",
      "('great', 0.40984162355340126)\n",
      "('the', 0.3787231472218794)\n",
      "('concert', 0.35741668117165964)\n",
      "('of', 0.2773738067325903)\n",
      "('just', 0.2598047527022691)\n",
      "\n",
      "Topic 1 ;\n",
      "('to', 0.32184144941377196)\n",
      "('pollution', 0.2641076135719797)\n",
      "('day', 0.24902077191893007)\n",
      "('is', 0.2290114925683931)\n",
      "('cook', 0.19406202788196772)\n",
      "\n",
      "Topic 2 ;\n",
      "('is', 0.3442407374203242)\n",
      "('google', 0.2936874640351261)\n",
      "('introducing', 0.2936874640351261)\n",
      "('new', 0.2936874640351261)\n",
      "('technlogy', 0.2936874640351261)\n",
      "\n",
      "Topic 3 ;\n",
      "('great', 0.3609734156929444)\n",
      "('google', 0.2183442429592279)\n",
      "('introducing', 0.2183442429592279)\n",
      "('new', 0.2183442429592279)\n",
      "('technlogy', 0.2183442429592279)\n"
     ]
    }
   ],
   "source": [
    "for i,y in enumerate(trunc_svd.components_):\n",
    "    componentwords = zip(word_list, y) # Combines the words and their vectors\n",
    "    sortedComponentwords = sorted(componentwords, key = lambda x: x[1], reverse=True) # Sorts the word by its vector\n",
    "    sortedComponentwords = sortedComponentwords[:5] # Gives only top 5 sorted words\n",
    "    print (\"\\nTopic\", i, \";\")\n",
    "    for x in sortedComponentwords:\n",
    "        print (x)"
   ]
  },
  {
   "cell_type": "code",
   "execution_count": null,
   "metadata": {},
   "outputs": [],
   "source": []
  },
  {
   "cell_type": "code",
   "execution_count": null,
   "metadata": {},
   "outputs": [],
   "source": [
    "# Topic modelling for consumer complaints dataset"
   ]
  },
  {
   "cell_type": "code",
   "execution_count": 23,
   "metadata": {},
   "outputs": [
    {
     "name": "stderr",
     "output_type": "stream",
     "text": [
      "C:\\Users\\Shlagha Rastogi\\Anaconda3\\lib\\site-packages\\IPython\\core\\interactiveshell.py:3020: DtypeWarning: Columns (5) have mixed types. Specify dtype option on import or set low_memory=False.\n",
      "  interactivity=interactivity, compiler=compiler, result=result)\n"
     ]
    }
   ],
   "source": [
    "import pandas as pd\n",
    "import numpy as np\n",
    "\n",
    "df = pd.read_csv(\"C:/Users/Shlagha Rastogi/Downloads/SWTA/Consumer_Complaints1.csv\")"
   ]
  },
  {
   "cell_type": "code",
   "execution_count": 24,
   "metadata": {},
   "outputs": [
    {
     "name": "stdout",
     "output_type": "stream",
     "text": [
      "(242038, 18)\n"
     ]
    },
    {
     "data": {
      "text/html": [
       "<div>\n",
       "<style scoped>\n",
       "    .dataframe tbody tr th:only-of-type {\n",
       "        vertical-align: middle;\n",
       "    }\n",
       "\n",
       "    .dataframe tbody tr th {\n",
       "        vertical-align: top;\n",
       "    }\n",
       "\n",
       "    .dataframe thead th {\n",
       "        text-align: right;\n",
       "    }\n",
       "</style>\n",
       "<table border=\"1\" class=\"dataframe\">\n",
       "  <thead>\n",
       "    <tr style=\"text-align: right;\">\n",
       "      <th></th>\n",
       "      <th>Date received</th>\n",
       "      <th>Product</th>\n",
       "      <th>Sub-product</th>\n",
       "      <th>Issue</th>\n",
       "      <th>Sub-issue</th>\n",
       "      <th>Consumer complaint narrative</th>\n",
       "      <th>Company public response</th>\n",
       "      <th>Company</th>\n",
       "      <th>State</th>\n",
       "      <th>ZIP code</th>\n",
       "      <th>Tags</th>\n",
       "      <th>Consumer consent provided?</th>\n",
       "      <th>Submitted via</th>\n",
       "      <th>Date sent to company</th>\n",
       "      <th>Company response to consumer</th>\n",
       "      <th>Timely response?</th>\n",
       "      <th>Consumer disputed?</th>\n",
       "      <th>Complaint ID</th>\n",
       "    </tr>\n",
       "  </thead>\n",
       "  <tbody>\n",
       "    <tr>\n",
       "      <th>0</th>\n",
       "      <td>07/17/2019</td>\n",
       "      <td>Credit reporting, credit repair services, or o...</td>\n",
       "      <td>Credit reporting</td>\n",
       "      <td>Incorrect information on your report</td>\n",
       "      <td>Account status incorrect</td>\n",
       "      <td>NaN</td>\n",
       "      <td>NaN</td>\n",
       "      <td>ALLY FINANCIAL INC.</td>\n",
       "      <td>TX</td>\n",
       "      <td>75035</td>\n",
       "      <td>NaN</td>\n",
       "      <td>NaN</td>\n",
       "      <td>Web</td>\n",
       "      <td>07/17/2019</td>\n",
       "      <td>In progress</td>\n",
       "      <td>Yes</td>\n",
       "      <td>NaN</td>\n",
       "      <td>3309495.0</td>\n",
       "    </tr>\n",
       "    <tr>\n",
       "      <th>1</th>\n",
       "      <td>07/17/2019</td>\n",
       "      <td>Credit card or prepaid card</td>\n",
       "      <td>General-purpose prepaid card</td>\n",
       "      <td>Trouble using the card</td>\n",
       "      <td>Problem using the card to withdraw money from ...</td>\n",
       "      <td>NaN</td>\n",
       "      <td>NaN</td>\n",
       "      <td>SQUARE INC</td>\n",
       "      <td>KS</td>\n",
       "      <td>674XX</td>\n",
       "      <td>NaN</td>\n",
       "      <td>NaN</td>\n",
       "      <td>Web</td>\n",
       "      <td>07/17/2019</td>\n",
       "      <td>In progress</td>\n",
       "      <td>Yes</td>\n",
       "      <td>NaN</td>\n",
       "      <td>3310031.0</td>\n",
       "    </tr>\n",
       "    <tr>\n",
       "      <th>2</th>\n",
       "      <td>07/17/2019</td>\n",
       "      <td>Debt collection</td>\n",
       "      <td>Other debt</td>\n",
       "      <td>Took or threatened to take negative or legal a...</td>\n",
       "      <td>Threatened or suggested your credit would be d...</td>\n",
       "      <td>NaN</td>\n",
       "      <td>NaN</td>\n",
       "      <td>Diversified Consultants, Inc.</td>\n",
       "      <td>FL</td>\n",
       "      <td>NaN</td>\n",
       "      <td>NaN</td>\n",
       "      <td>NaN</td>\n",
       "      <td>Web</td>\n",
       "      <td>07/17/2019</td>\n",
       "      <td>In progress</td>\n",
       "      <td>Yes</td>\n",
       "      <td>NaN</td>\n",
       "      <td>3309687.0</td>\n",
       "    </tr>\n",
       "    <tr>\n",
       "      <th>3</th>\n",
       "      <td>07/17/2019</td>\n",
       "      <td>Mortgage</td>\n",
       "      <td>VA mortgage</td>\n",
       "      <td>Trouble during payment process</td>\n",
       "      <td>NaN</td>\n",
       "      <td>NaN</td>\n",
       "      <td>NaN</td>\n",
       "      <td>FLAGSTAR BANK, FSB</td>\n",
       "      <td>VA</td>\n",
       "      <td>22554</td>\n",
       "      <td>Servicemember</td>\n",
       "      <td>NaN</td>\n",
       "      <td>Web</td>\n",
       "      <td>07/17/2019</td>\n",
       "      <td>In progress</td>\n",
       "      <td>Yes</td>\n",
       "      <td>NaN</td>\n",
       "      <td>3308925.0</td>\n",
       "    </tr>\n",
       "    <tr>\n",
       "      <th>4</th>\n",
       "      <td>07/17/2019</td>\n",
       "      <td>Debt collection</td>\n",
       "      <td>Other debt</td>\n",
       "      <td>Attempts to collect debt not owed</td>\n",
       "      <td>Debt is not yours</td>\n",
       "      <td>NaN</td>\n",
       "      <td>Company believes it acted appropriately as aut...</td>\n",
       "      <td>BYL Collection Services</td>\n",
       "      <td>TN</td>\n",
       "      <td>370XX</td>\n",
       "      <td>Servicemember</td>\n",
       "      <td>NaN</td>\n",
       "      <td>Web</td>\n",
       "      <td>07/17/2019</td>\n",
       "      <td>Closed with explanation</td>\n",
       "      <td>Yes</td>\n",
       "      <td>NaN</td>\n",
       "      <td>3308914.0</td>\n",
       "    </tr>\n",
       "  </tbody>\n",
       "</table>\n",
       "</div>"
      ],
      "text/plain": [
       "  Date received                                            Product  \\\n",
       "0    07/17/2019  Credit reporting, credit repair services, or o...   \n",
       "1    07/17/2019                        Credit card or prepaid card   \n",
       "2    07/17/2019                                    Debt collection   \n",
       "3    07/17/2019                                           Mortgage   \n",
       "4    07/17/2019                                    Debt collection   \n",
       "\n",
       "                    Sub-product  \\\n",
       "0              Credit reporting   \n",
       "1  General-purpose prepaid card   \n",
       "2                    Other debt   \n",
       "3                   VA mortgage   \n",
       "4                    Other debt   \n",
       "\n",
       "                                               Issue  \\\n",
       "0               Incorrect information on your report   \n",
       "1                             Trouble using the card   \n",
       "2  Took or threatened to take negative or legal a...   \n",
       "3                     Trouble during payment process   \n",
       "4                  Attempts to collect debt not owed   \n",
       "\n",
       "                                           Sub-issue  \\\n",
       "0                           Account status incorrect   \n",
       "1  Problem using the card to withdraw money from ...   \n",
       "2  Threatened or suggested your credit would be d...   \n",
       "3                                                NaN   \n",
       "4                                  Debt is not yours   \n",
       "\n",
       "  Consumer complaint narrative  \\\n",
       "0                          NaN   \n",
       "1                          NaN   \n",
       "2                          NaN   \n",
       "3                          NaN   \n",
       "4                          NaN   \n",
       "\n",
       "                             Company public response  \\\n",
       "0                                                NaN   \n",
       "1                                                NaN   \n",
       "2                                                NaN   \n",
       "3                                                NaN   \n",
       "4  Company believes it acted appropriately as aut...   \n",
       "\n",
       "                         Company State ZIP code           Tags  \\\n",
       "0            ALLY FINANCIAL INC.    TX    75035            NaN   \n",
       "1                     SQUARE INC    KS    674XX            NaN   \n",
       "2  Diversified Consultants, Inc.    FL      NaN            NaN   \n",
       "3             FLAGSTAR BANK, FSB    VA    22554  Servicemember   \n",
       "4        BYL Collection Services    TN    370XX  Servicemember   \n",
       "\n",
       "  Consumer consent provided? Submitted via Date sent to company  \\\n",
       "0                        NaN           Web           07/17/2019   \n",
       "1                        NaN           Web           07/17/2019   \n",
       "2                        NaN           Web           07/17/2019   \n",
       "3                        NaN           Web           07/17/2019   \n",
       "4                        NaN           Web           07/17/2019   \n",
       "\n",
       "  Company response to consumer Timely response?  Consumer disputed?  \\\n",
       "0                  In progress              Yes                 NaN   \n",
       "1                  In progress              Yes                 NaN   \n",
       "2                  In progress              Yes                 NaN   \n",
       "3                  In progress              Yes                 NaN   \n",
       "4      Closed with explanation              Yes                 NaN   \n",
       "\n",
       "   Complaint ID  \n",
       "0     3309495.0  \n",
       "1     3310031.0  \n",
       "2     3309687.0  \n",
       "3     3308925.0  \n",
       "4     3308914.0  "
      ]
     },
     "execution_count": 24,
     "metadata": {},
     "output_type": "execute_result"
    }
   ],
   "source": [
    "print(df.shape)\n",
    "df.head()"
   ]
  },
  {
   "cell_type": "code",
   "execution_count": 27,
   "metadata": {},
   "outputs": [
    {
     "data": {
      "text/plain": [
       "(242038,)"
      ]
     },
     "execution_count": 27,
     "metadata": {},
     "output_type": "execute_result"
    }
   ],
   "source": [
    "consumer_complaints = df[\"Consumer complaint narrative\"]\n",
    "consumer_complaints.shape"
   ]
  },
  {
   "cell_type": "code",
   "execution_count": 28,
   "metadata": {},
   "outputs": [
    {
     "data": {
      "text/plain": [
       "(77608,)"
      ]
     },
     "execution_count": 28,
     "metadata": {},
     "output_type": "execute_result"
    }
   ],
   "source": [
    "consumer_complaints.dropna(inplace=True)\n",
    "consumer_complaints.shape"
   ]
  },
  {
   "cell_type": "code",
   "execution_count": 30,
   "metadata": {},
   "outputs": [
    {
     "data": {
      "text/plain": [
       "(100,)"
      ]
     },
     "execution_count": 30,
     "metadata": {},
     "output_type": "execute_result"
    }
   ],
   "source": [
    "consumer_complaints_small = consumer_complaints.iloc[:100]\n",
    "consumer_complaints_small.shape"
   ]
  },
  {
   "cell_type": "code",
   "execution_count": 35,
   "metadata": {},
   "outputs": [
    {
     "data": {
      "text/plain": [
       "100"
      ]
     },
     "execution_count": 35,
     "metadata": {},
     "output_type": "execute_result"
    }
   ],
   "source": [
    "corpus = consumer_complaints_small.tolist()\n",
    "len(corpus)"
   ]
  },
  {
   "cell_type": "code",
   "execution_count": 36,
   "metadata": {},
   "outputs": [
    {
     "name": "stderr",
     "output_type": "stream",
     "text": [
      "[nltk_data] Downloading package words to C:\\Users\\Shlagha\n",
      "[nltk_data]     Rastogi\\AppData\\Roaming\\nltk_data...\n",
      "[nltk_data]   Package words is already up-to-date!\n"
     ]
    }
   ],
   "source": [
    "# Importing libraries for tokenizing, lemmatizing and removing stopwords\n",
    "from nltk.tokenize import word_tokenize\n",
    "from nltk.stem import WordNetLemmatizer \n",
    "lemmatizer = WordNetLemmatizer()\n",
    "\n",
    "import nltk\n",
    "nltk.download('words')\n",
    "words = set(nltk.corpus.words.words())\n",
    "\n",
    "from nltk.corpus import stopwords\n",
    "from string import punctuation\n",
    "words_to_be_removed = list(stopwords.words(\"english\"))+list(punctuation)"
   ]
  },
  {
   "cell_type": "code",
   "execution_count": 37,
   "metadata": {},
   "outputs": [],
   "source": [
    "final_corpus = []\n",
    "for i in range(len(corpus)):\n",
    "    word = word_tokenize(corpus[i].lower())\n",
    "    text = [i for i in word if len(i)>2]\n",
    "    text = [lemmatizer.lemmatize(i) for i in text if i not in words_to_be_removed]\n",
    "    sent = \" \".join(text)\n",
    "    \n",
    "    final_corpus.append(sent)"
   ]
  },
  {
   "cell_type": "code",
   "execution_count": 38,
   "metadata": {},
   "outputs": [
    {
     "data": {
      "text/html": [
       "<div>\n",
       "<style scoped>\n",
       "    .dataframe tbody tr th:only-of-type {\n",
       "        vertical-align: middle;\n",
       "    }\n",
       "\n",
       "    .dataframe tbody tr th {\n",
       "        vertical-align: top;\n",
       "    }\n",
       "\n",
       "    .dataframe thead th {\n",
       "        text-align: right;\n",
       "    }\n",
       "</style>\n",
       "<table border=\"1\" class=\"dataframe\">\n",
       "  <thead>\n",
       "    <tr style=\"text-align: right;\">\n",
       "      <th></th>\n",
       "      <th>Complaints</th>\n",
       "    </tr>\n",
       "  </thead>\n",
       "  <tbody>\n",
       "    <tr>\n",
       "      <th>0</th>\n",
       "      <td>duplicate contacted xxxx xxxx experian fraudul...</td>\n",
       "    </tr>\n",
       "    <tr>\n",
       "      <th>1</th>\n",
       "      <td>16000.00 debt</td>\n",
       "    </tr>\n",
       "    <tr>\n",
       "      <th>2</th>\n",
       "      <td>call dont answer call call day long havent sig...</td>\n",
       "    </tr>\n",
       "    <tr>\n",
       "      <th>3</th>\n",
       "      <td>provided account information showed debt paid ...</td>\n",
       "    </tr>\n",
       "    <tr>\n",
       "      <th>4</th>\n",
       "      <td>charge credit report collection agency trident...</td>\n",
       "    </tr>\n",
       "  </tbody>\n",
       "</table>\n",
       "</div>"
      ],
      "text/plain": [
       "                                          Complaints\n",
       "0  duplicate contacted xxxx xxxx experian fraudul...\n",
       "1                                      16000.00 debt\n",
       "2  call dont answer call call day long havent sig...\n",
       "3  provided account information showed debt paid ...\n",
       "4  charge credit report collection agency trident..."
      ]
     },
     "execution_count": 38,
     "metadata": {},
     "output_type": "execute_result"
    }
   ],
   "source": [
    "new_df = pd.DataFrame(final_corpus)\n",
    "new_df.columns = [\"Complaints\"]\n",
    "new_df.head()"
   ]
  },
  {
   "cell_type": "code",
   "execution_count": 39,
   "metadata": {},
   "outputs": [
    {
     "data": {
      "text/plain": [
       "<100x1390 sparse matrix of type '<class 'numpy.float64'>'\n",
       "\twith 4473 stored elements in Compressed Sparse Row format>"
      ]
     },
     "execution_count": 39,
     "metadata": {},
     "output_type": "execute_result"
    }
   ],
   "source": [
    "from sklearn.feature_extraction.text import TfidfVectorizer\n",
    "tfidf = TfidfVectorizer()\n",
    "\n",
    "vec = tfidf.fit_transform(new_df[\"Complaints\"])\n",
    "vec"
   ]
  },
  {
   "cell_type": "code",
   "execution_count": 42,
   "metadata": {},
   "outputs": [
    {
     "data": {
      "text/plain": [
       "(100, 1390)"
      ]
     },
     "execution_count": 42,
     "metadata": {},
     "output_type": "execute_result"
    }
   ],
   "source": [
    "vec_arr = vec.toarray()\n",
    "vec_arr.shape"
   ]
  },
  {
   "cell_type": "code",
   "execution_count": 43,
   "metadata": {},
   "outputs": [
    {
     "data": {
      "text/plain": [
       "TruncatedSVD(algorithm='randomized', n_components=4, n_iter=100,\n",
       "             random_state=42, tol=0.0)"
      ]
     },
     "execution_count": 43,
     "metadata": {},
     "output_type": "execute_result"
    }
   ],
   "source": [
    "from sklearn.decomposition import TruncatedSVD\n",
    "trunc_svd = TruncatedSVD(n_components=4, n_iter=100, random_state=42)\n",
    "\n",
    "trunc_svd.fit(vec_arr)"
   ]
  },
  {
   "cell_type": "code",
   "execution_count": 48,
   "metadata": {},
   "outputs": [],
   "source": [
    "words = tfidf.get_feature_names()"
   ]
  },
  {
   "cell_type": "code",
   "execution_count": 49,
   "metadata": {},
   "outputs": [
    {
     "name": "stdout",
     "output_type": "stream",
     "text": [
      "\n",
      "Topic 0 ;\n",
      "('xxxx', 0.8436184256419903)\n",
      "('xx', 0.23667866168731486)\n",
      "('account', 0.1374704672553495)\n",
      "('credit', 0.12412703971101438)\n",
      "('debt', 0.10885507315944638)\n",
      "('00', 0.10202088314645022)\n",
      "('report', 0.09819075410314837)\n",
      "('consumer', 0.09008631710852537)\n",
      "('information', 0.07765661342225733)\n",
      "('reporting', 0.07360601912791781)\n",
      "\n",
      "Topic 1 ;\n",
      "('consumer', 0.5994588949412877)\n",
      "('theft', 0.2797277779852393)\n",
      "('information', 0.27282039505150774)\n",
      "('identity', 0.26608444024417127)\n",
      "('block', 0.23126327219099904)\n",
      "('agency', 0.2259668215753394)\n",
      "('section', 0.21633369069795225)\n",
      "('reporting', 0.19199044854001146)\n",
      "('victim', 0.17398405223125307)\n",
      "('shall', 0.14783833381353909)\n",
      "\n",
      "Topic 2 ;\n",
      "('victim', 0.572615054778553)\n",
      "('theft', 0.45225731101170724)\n",
      "('identity', 0.4074066459387022)\n",
      "('xxxx', 0.16933069042150484)\n",
      "('item', 0.04626300591741292)\n",
      "('apartment', 0.03035759862060084)\n",
      "('negative', 0.029131465998954557)\n",
      "('fraudulent', 0.02344512089583706)\n",
      "('rental', 0.02230571306093733)\n",
      "('department', 0.021736586865320928)\n",
      "\n",
      "Topic 3 ;\n",
      "('account', 0.44954114586985144)\n",
      "('credit', 0.24926327183631788)\n",
      "('victim', 0.2403604357838083)\n",
      "('belong', 0.1856653598150713)\n",
      "('theft', 0.1735361709603016)\n",
      "('would', 0.16417937485015066)\n",
      "('reviewing', 0.16339171144981726)\n",
      "('unaware', 0.16339171144981726)\n",
      "('like', 0.16241466240927424)\n",
      "('report', 0.15845373186759135)\n"
     ]
    }
   ],
   "source": [
    "for i,y in enumerate(trunc_svd.components_):\n",
    "    componentwords = zip(words, y)\n",
    "    sortedComponentwords = sorted(componentwords, key = lambda x: x[1], reverse=True)\n",
    "    sortedComponentwords = sortedComponentwords[:10]\n",
    "    print (\"\\nTopic\", i, \";\")\n",
    "    for x in sortedComponentwords:\n",
    "        print (x)"
   ]
  },
  {
   "cell_type": "code",
   "execution_count": null,
   "metadata": {},
   "outputs": [],
   "source": []
  }
 ],
 "metadata": {
  "kernelspec": {
   "display_name": "Python 3",
   "language": "python",
   "name": "python3"
  },
  "language_info": {
   "codemirror_mode": {
    "name": "ipython",
    "version": 3
   },
   "file_extension": ".py",
   "mimetype": "text/x-python",
   "name": "python",
   "nbconvert_exporter": "python",
   "pygments_lexer": "ipython3",
   "version": "3.7.1"
  }
 },
 "nbformat": 4,
 "nbformat_minor": 2
}
